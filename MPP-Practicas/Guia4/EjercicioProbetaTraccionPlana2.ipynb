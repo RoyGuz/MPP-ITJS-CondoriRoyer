{
 "cells": [
  {
   "cell_type": "code",
   "execution_count": 1,
   "id": "a6a1b8a5",
   "metadata": {},
   "outputs": [],
   "source": [
    "import numpy as np\n",
    "import scipy as sp\n",
    "import matplotlib.pyplot as plt\n",
    "import gmsh\n",
    "\n",
    "from funcionesFEM import ResolverSistemaFEM, graficar_armadura1\n",
    "from comandoGmsh import ResolverSistemaGmesh"
   ]
  },
  {
   "cell_type": "code",
   "execution_count": 2,
   "id": "4c658275",
   "metadata": {},
   "outputs": [],
   "source": [
    "class DATOS:\n",
    "    def __init__(self, id,ancho, espesor, Tension, ModuloElastico, ModuloPoison, glxn, FactorEscala, EscalaMallado):\n",
    "        self.id = id                # Indice del elemento                 \n",
    "        self.ancho = ancho\n",
    "        self.espesor = espesor               \n",
    "        self.Tension = Tension             \n",
    "        self.ModuloElastico = ModuloElastico  \n",
    "        self.ModuloPoison = ModuloPoison      \n",
    "        self.glxn = glxn\n",
    "        self.FactorEscala = FactorEscala\n",
    "        self.EscalaMallado = EscalaMallado  "
   ]
  },
  {
   "cell_type": "code",
   "execution_count": 3,
   "id": "73eac0b7",
   "metadata": {},
   "outputs": [],
   "source": [
    "Dato = DATOS(id=1,ancho = 10, espesor=2, Tension=500, ModuloElastico=210e3, ModuloPoison=0.3, glxn = 2, FactorEscala = 100, EscalaMallado = 2)"
   ]
  },
  {
   "cell_type": "code",
   "execution_count": 4,
   "id": "c2716c7e",
   "metadata": {},
   "outputs": [],
   "source": [
    "#   Lo que se hace ahora es dibujar la pieza con los comandos internos de gmesh\n",
    "\n",
    "gmsh.initialize()           #   Para inicial gmsh\n",
    "gmsh.model.add('EJ2-P1')    #   Se arma el modelo\n",
    "\n",
    "#   Se dibuja la pieza\n",
    "\n",
    "#   Defino los puntos\n",
    "\n",
    "esc = Dato.EscalaMallado \n",
    "\n",
    "P = [\n",
    "    gmsh.model.geo.addPoint(0,0,0,esc),\n",
    "    gmsh.model.geo.addPoint(0,6.25,0,esc),\n",
    "    gmsh.model.geo.addPoint(50,6.25,0,esc/10),\n",
    "    gmsh.model.geo.addPoint(50,10,0,esc/10),    \n",
    "    gmsh.model.geo.addPoint(100,10,0,esc),\n",
    "    gmsh.model.geo.addPoint(100,0,0,esc),\n",
    "    gmsh.model.geo.addPoint(41.0732,18.75,0,0)\n",
    "]\n",
    "\n",
    "L = [\n",
    "    gmsh.model.geo.addLine(P[2],P[1]),\n",
    "    gmsh.model.geo.addLine(P[1],P[0]),\n",
    "    gmsh.model.geo.addLine(P[0],P[5]),\n",
    "    gmsh.model.geo.addLine(P[5],P[4]),\n",
    "    gmsh.model.geo.addLine(P[4],P[3]),\n",
    "    gmsh.model.geo.addLine(P[3],P[2])\n",
    "    #gmsh.model.geo.addCircleArc(P[2],P[6],P[3])\n",
    "]\n",
    "\n",
    "#   Defino las curvas cerradas de mi modelo\n",
    "\n",
    "C1 = gmsh.model.geo.addCurveLoop([L[0],L[1],L[2],L[3],L[4],L[5]])\n",
    "#C2 = gmsh.model.geo.addCurveLoop([L[5]])\n",
    "\n",
    "#   Defino que curvas van a conformar una superficie\n",
    "\n",
    "S1 = gmsh.model.geo.addPlaneSurface([C1])\n",
    "\n",
    "gmsh.model.geo.synchronize()\n",
    "gmsh.model.mesh.generate(2)\n",
    "#gmsh.fltk.run()"
   ]
  },
  {
   "cell_type": "code",
   "execution_count": 5,
   "id": "62e1fc79",
   "metadata": {},
   "outputs": [],
   "source": [
    " #   Se definen los elementos que van a tener propiedades fisicas\n",
    "\n",
    "EmpotradoX = gmsh.model.addPhysicalGroup(1, [L[1]])\n",
    "gmsh.model.setPhysicalName(1, EmpotradoX, 'EmpotradoX')\n",
    "\n",
    "EmpotradoY = gmsh.model.addPhysicalGroup(1, [L[2]])\n",
    "gmsh.model.setPhysicalName(1, EmpotradoY, 'EmpotradoY')\n",
    "\n",
    "TraccionadoX = gmsh.model.addPhysicalGroup(1, [L[3]])\n",
    "gmsh.model.setPhysicalName(1, TraccionadoX, 'TraccionadoX')\n",
    "\n",
    "Superficie = gmsh.model.addPhysicalGroup(2, [S1])\n",
    "gmsh.model.setPhysicalName(2, Superficie, 'Superficie')\n",
    "\n",
    "NodoCentro = gmsh.model.addPhysicalGroup(0, [P[6]])\n",
    "gmsh.model.setPhysicalName(0, NodoCentro, 'NodoCentro')"
   ]
  },
  {
   "cell_type": "code",
   "execution_count": 6,
   "id": "33b469f7",
   "metadata": {},
   "outputs": [],
   "source": [
    "MN, MC, b, Nodos, Elementos = ResolverSistemaGmesh (Dato,EmpotradoY, EmpotradoX, TraccionadoX, NodoCentro)\n",
    "U,F,elementos = ResolverSistemaFEM(MN,MC,b,Dato,False)\n",
    "\n",
    "#...........................................................................................................\n",
    "\n",
    "UMatriz = U.reshape(-1, 2)\n",
    "UMatriz = np.hstack((UMatriz, np.zeros((UMatriz.shape[0], 1))))\n",
    "\n",
    "TensionMexPE = np.array([e.TensionMax for e in elementos])\n",
    "TensionX = np.array([e.Tension[0] for e in elementos])\n",
    "TensionY = np.array([e.Tension[1] for e in elementos])\n",
    "\n",
    "desplazamientos = gmsh.view.add(\"Desplazamientos\")\n",
    "gmsh.view.addModelData(desplazamientos, 0, 'EJ2-P1', 'NodeData', Nodos[0], UMatriz, numComponents = 3)\n",
    "\n",
    "TensionesMaxPE = gmsh.view.add(\"Tensioes maximas\")\n",
    "gmsh.view.addModelData(TensionesMaxPE, 0, 'EJ2-P1', 'ElementData', Elementos[0], TensionMexPE, numComponents = 1)\n",
    "\n",
    "TensionesX = gmsh.view.add(\"Tensioes en X\")\n",
    "gmsh.view.addModelData(TensionesX, 0, 'EJ2-P1', 'ElementData', Elementos[0], TensionX, numComponents = 1)\n",
    "\n",
    "TensionesY = gmsh.view.add(\"Tensioes en Y\")\n",
    "gmsh.view.addModelData(TensionesY, 0, 'EJ2-P1', 'ElementData', Elementos[0], TensionY, numComponents = 1)\n",
    "\n",
    "gmsh.fltk.run()\n",
    "gmsh.finalize()\n",
    "\n"
   ]
  }
 ],
 "metadata": {
  "kernelspec": {
   "display_name": "Python 3",
   "language": "python",
   "name": "python3"
  },
  "language_info": {
   "codemirror_mode": {
    "name": "ipython",
    "version": 3
   },
   "file_extension": ".py",
   "mimetype": "text/x-python",
   "name": "python",
   "nbconvert_exporter": "python",
   "pygments_lexer": "ipython3",
   "version": "3.13.1"
  }
 },
 "nbformat": 4,
 "nbformat_minor": 5
}
